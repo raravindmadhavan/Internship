{
 "cells": [
  {
   "cell_type": "code",
   "execution_count": 23,
   "id": "3612aa70",
   "metadata": {},
   "outputs": [],
   "source": [
    "import pandas as pd\n",
    "import math\n",
    "import numpy as np\n",
    "import matplotlib.pyplot as plt\n",
    "import seaborn as sns\n",
    "from sklearn.impute import KNNImputer\n",
    "from sklearn.experimental import enable_iterative_imputer\n",
    "from sklearn.impute import IterativeImputer\n",
    "from sklearn import preprocessing\n",
    "from sklearn.model_selection import train_test_split,GridSearchCV\n",
    "from sklearn.preprocessing import StandardScaler\n",
    "from sklearn.svm import SVC\n",
    "from sklearn.linear_model import LogisticRegression\n",
    "from sklearn.tree import DecisionTreeClassifier\n",
    "from sklearn.naive_bayes import GaussianNB\n",
    "from sklearn.ensemble import RandomForestClassifier\n",
    "from sklearn.metrics import roc_curve, auc\n",
    "import matplotlib.pyplot as plt"
   ]
  },
  {
   "cell_type": "code",
   "execution_count": 2,
   "id": "43582773",
   "metadata": {},
   "outputs": [
    {
     "data": {
      "text/html": [
       "<div>\n",
       "<style scoped>\n",
       "    .dataframe tbody tr th:only-of-type {\n",
       "        vertical-align: middle;\n",
       "    }\n",
       "\n",
       "    .dataframe tbody tr th {\n",
       "        vertical-align: top;\n",
       "    }\n",
       "\n",
       "    .dataframe thead th {\n",
       "        text-align: right;\n",
       "    }\n",
       "</style>\n",
       "<table border=\"1\" class=\"dataframe\">\n",
       "  <thead>\n",
       "    <tr style=\"text-align: right;\">\n",
       "      <th></th>\n",
       "      <th>PassengerId</th>\n",
       "      <th>Survived</th>\n",
       "      <th>Pclass</th>\n",
       "      <th>Name</th>\n",
       "      <th>Sex</th>\n",
       "      <th>Age</th>\n",
       "      <th>SibSp</th>\n",
       "      <th>Parch</th>\n",
       "      <th>Ticket</th>\n",
       "      <th>Fare</th>\n",
       "      <th>Cabin</th>\n",
       "      <th>Embarked</th>\n",
       "    </tr>\n",
       "  </thead>\n",
       "  <tbody>\n",
       "    <tr>\n",
       "      <th>0</th>\n",
       "      <td>1</td>\n",
       "      <td>0</td>\n",
       "      <td>third</td>\n",
       "      <td>Braund, Mr. Owen Harris</td>\n",
       "      <td>male</td>\n",
       "      <td>22.0</td>\n",
       "      <td>1</td>\n",
       "      <td>0</td>\n",
       "      <td>A/5 21171</td>\n",
       "      <td>7.2500</td>\n",
       "      <td>NaN</td>\n",
       "      <td>S</td>\n",
       "    </tr>\n",
       "    <tr>\n",
       "      <th>1</th>\n",
       "      <td>2</td>\n",
       "      <td>1</td>\n",
       "      <td>first</td>\n",
       "      <td>Cumings, Mrs. John Bradley (Florence Briggs Th...</td>\n",
       "      <td>female</td>\n",
       "      <td>38.0</td>\n",
       "      <td>1</td>\n",
       "      <td>0</td>\n",
       "      <td>PC 17599</td>\n",
       "      <td>71.2833</td>\n",
       "      <td>C85</td>\n",
       "      <td>C</td>\n",
       "    </tr>\n",
       "    <tr>\n",
       "      <th>2</th>\n",
       "      <td>3</td>\n",
       "      <td>1</td>\n",
       "      <td>third</td>\n",
       "      <td>Heikkinen, Miss. Laina</td>\n",
       "      <td>female</td>\n",
       "      <td>26.0</td>\n",
       "      <td>0</td>\n",
       "      <td>0</td>\n",
       "      <td>STON/O2. 3101282</td>\n",
       "      <td>7.9250</td>\n",
       "      <td>NaN</td>\n",
       "      <td>S</td>\n",
       "    </tr>\n",
       "    <tr>\n",
       "      <th>3</th>\n",
       "      <td>4</td>\n",
       "      <td>1</td>\n",
       "      <td>first</td>\n",
       "      <td>Futrelle, Mrs. Jacques Heath (Lily May Peel)</td>\n",
       "      <td>female</td>\n",
       "      <td>35.0</td>\n",
       "      <td>1</td>\n",
       "      <td>0</td>\n",
       "      <td>113803</td>\n",
       "      <td>53.1000</td>\n",
       "      <td>C123</td>\n",
       "      <td>S</td>\n",
       "    </tr>\n",
       "    <tr>\n",
       "      <th>4</th>\n",
       "      <td>5</td>\n",
       "      <td>0</td>\n",
       "      <td>third</td>\n",
       "      <td>Allen, Mr. William Henry</td>\n",
       "      <td>male</td>\n",
       "      <td>35.0</td>\n",
       "      <td>0</td>\n",
       "      <td>0</td>\n",
       "      <td>373450</td>\n",
       "      <td>8.0500</td>\n",
       "      <td>NaN</td>\n",
       "      <td>S</td>\n",
       "    </tr>\n",
       "  </tbody>\n",
       "</table>\n",
       "</div>"
      ],
      "text/plain": [
       "   PassengerId  Survived Pclass  \\\n",
       "0            1         0  third   \n",
       "1            2         1  first   \n",
       "2            3         1  third   \n",
       "3            4         1  first   \n",
       "4            5         0  third   \n",
       "\n",
       "                                                Name     Sex   Age  SibSp  \\\n",
       "0                            Braund, Mr. Owen Harris    male  22.0      1   \n",
       "1  Cumings, Mrs. John Bradley (Florence Briggs Th...  female  38.0      1   \n",
       "2                             Heikkinen, Miss. Laina  female  26.0      0   \n",
       "3       Futrelle, Mrs. Jacques Heath (Lily May Peel)  female  35.0      1   \n",
       "4                           Allen, Mr. William Henry    male  35.0      0   \n",
       "\n",
       "   Parch            Ticket     Fare Cabin Embarked  \n",
       "0      0         A/5 21171   7.2500   NaN        S  \n",
       "1      0          PC 17599  71.2833   C85        C  \n",
       "2      0  STON/O2. 3101282   7.9250   NaN        S  \n",
       "3      0            113803  53.1000  C123        S  \n",
       "4      0            373450   8.0500   NaN        S  "
      ]
     },
     "execution_count": 2,
     "metadata": {},
     "output_type": "execute_result"
    }
   ],
   "source": [
    "df=pd.read_csv('C:\\\\Users\\\\User\\\\Downloads\\\\titanic_train.csv')\n",
    "df.shape[0]\n",
    "df['Pclass']=df['Pclass'].map({1:'first',2:'second',3:'third'})\n",
    "df.head()"
   ]
  },
  {
   "cell_type": "markdown",
   "id": "583bf983",
   "metadata": {},
   "source": [
    "Checking for Nulls"
   ]
  },
  {
   "cell_type": "code",
   "execution_count": 15,
   "id": "d11c6678",
   "metadata": {},
   "outputs": [
    {
     "name": "stdout",
     "output_type": "stream",
     "text": [
      "177 687\n"
     ]
    }
   ],
   "source": [
    "print(df[df.Age.isna()].shape[0],df[df.Cabin.isna()].shape[0]) # 177 Null Ages # 687 Null Cabin"
   ]
  },
  {
   "cell_type": "markdown",
   "id": "f69f2dba",
   "metadata": {},
   "source": [
    "19.8% Age is Null and 77.1% Cabin is Null. This needs to be handled."
   ]
  },
  {
   "cell_type": "markdown",
   "id": "f150312c",
   "metadata": {},
   "source": [
    "# Exploratory Data Analysis"
   ]
  },
  {
   "cell_type": "markdown",
   "id": "dd66e1d4",
   "metadata": {},
   "source": [
    "Age"
   ]
  },
  {
   "cell_type": "code",
   "execution_count": 73,
   "id": "6af7425c",
   "metadata": {},
   "outputs": [
    {
     "data": {
      "text/plain": [
       "<Axes: xlabel='Age', ylabel='Sex'>"
      ]
     },
     "execution_count": 73,
     "metadata": {},
     "output_type": "execute_result"
    },
    {
     "data": {
      "image/png": "[encoded data removed]",
      "text/plain": [
       "<Figure size 640x480 with 1 Axes>"
      ]
     },
     "metadata": {},
     "output_type": "display_data"
    }
   ],
   "source": [
    "sns.boxplot(x=df[\"Age\"],y=df['Sex'])\n",
    "# Most Passengers are in the age group 20-30 across sexes"
   ]
  },
  {
   "cell_type": "code",
   "execution_count": 74,
   "id": "560e6b27",
   "metadata": {},
   "outputs": [
    {
     "data": {
      "text/plain": [
       "<Axes: xlabel='Age', ylabel='Pclass'>"
      ]
     },
     "execution_count": 74,
     "metadata": {},
     "output_type": "execute_result"
    },
    {
     "data": {
      "image/png": "[encoded data removed]",
      "text/plain": [
       "<Figure size 640x480 with 1 Axes>"
      ]
     },
     "metadata": {},
     "output_type": "display_data"
    }
   ],
   "source": [
    "sns.boxplot(data=df, x=\"Age\", y=str(\"Pclass\")) \n",
    "# First class passengers are slightly elder than the other classes, Third class has some outliers of age > 50"
   ]
  },
  {
   "cell_type": "code",
   "execution_count": 83,
   "id": "d3a8cf27",
   "metadata": {},
   "outputs": [
    {
     "data": {
      "text/plain": [
       "<Axes: xlabel='Survived', ylabel='count'>"
      ]
     },
     "execution_count": 83,
     "metadata": {},
     "output_type": "execute_result"
    },
    {
     "data": {
      "image/png": "[encoded data removed]",
      "text/plain": [
       "<Figure size 640x480 with 1 Axes>"
      ]
     },
     "metadata": {},
     "output_type": "display_data"
    }
   ],
   "source": [
    "sns.countplot(data=df,x=df['Survived'],hue='Pclass')\n",
    "# Third class is prone to death compared to the other classes"
   ]
  },
  {
   "cell_type": "code",
   "execution_count": 91,
   "id": "73426940",
   "metadata": {},
   "outputs": [
    {
     "data": {
      "text/plain": [
       "<Axes: xlabel='Fare', ylabel='Count'>"
      ]
     },
     "execution_count": 91,
     "metadata": {},
     "output_type": "execute_result"
    },
    {
     "data": {
      "image/png": "[encoded data removed]",
      "text/plain": [
       "<Figure size 640x480 with 1 Axes>"
      ]
     },
     "metadata": {},
     "output_type": "display_data"
    }
   ],
   "source": [
    "sns.histplot(data=df,x='Fare',bins=20,hue='Pclass',multiple='stack')\n",
    "# Third class and second class tickets are  below 40 ,first class tickets range from 0 to 500"
   ]
  },
  {
   "cell_type": "code",
   "execution_count": 105,
   "id": "fbafab12",
   "metadata": {},
   "outputs": [
    {
     "data": {
      "text/plain": [
       "<Axes: xlabel='Survived', ylabel='count'>"
      ]
     },
     "execution_count": 105,
     "metadata": {},
     "output_type": "execute_result"
    },
    {
     "data": {
      "image/png": "[encoded data removed]",
      "text/plain": [
       "<Figure size 640x480 with 1 Axes>"
      ]
     },
     "metadata": {},
     "output_type": "display_data"
    }
   ],
   "source": [
    "sns.countplot(data=df[df['Age'].isna()],x='Survived') \n",
    "# 120 data has no age : may be of third class passengers who got over the counter tickets\n",
    "# Null Age cannot be ignored it should be imputed."
   ]
  },
  {
   "cell_type": "code",
   "execution_count": 126,
   "id": "570d3787",
   "metadata": {},
   "outputs": [
    {
     "data": {
      "text/plain": [
       "Text(0.5, 1.0, 'Fare Age Relation')"
      ]
     },
     "execution_count": 126,
     "metadata": {},
     "output_type": "execute_result"
    },
    {
     "data": {
      "image/png": "[encoded data removed]",
      "text/plain": [
       "<Figure size 1500x500 with 1 Axes>"
      ]
     },
     "metadata": {},
     "output_type": "display_data"
    }
   ],
   "source": [
    "# Create subplots\n",
    "fig, axs = plt.subplots(1, 1, figsize=(15, 5))\n",
    "\n",
    "# Plot regplots\n",
    "sns.regplot(data=df[~df['Age'].isna()], x=\"Age\", y=\"Fare\", ax=axs)\n",
    "axs.set_title('Fare Age Relation')\n",
    "# No Significant relationship between Age and Fare"
   ]
  },
  {
   "cell_type": "code",
   "execution_count": 127,
   "id": "15abbeaf",
   "metadata": {},
   "outputs": [
    {
     "data": {
      "text/plain": [
       "Text(0.5, 1.0, 'Sex Embarked Count')"
      ]
     },
     "execution_count": 127,
     "metadata": {},
     "output_type": "execute_result"
    },
    {
     "data": {
      "image/png": "[encoded data removed]",
      "text/plain": [
       "<Figure size 1500x500 with 3 Axes>"
      ]
     },
     "metadata": {},
     "output_type": "display_data"
    }
   ],
   "source": [
    "# Create subplots\n",
    "fig, axs = plt.subplots(1, 4, figsize=(15, 5))\n",
    "\n",
    "# Plot regplots\n",
    "sns.countplot(data=df, x=\"Sex\", ax=axs[0])\n",
    "axs[0].set_title('Sex Count')\n",
    "sns.histplot(data=df,x='Fare',bins=10,hue='Sex',multiple='stack',ax=axs[1])\n",
    "axs[1].set_title('Fare Sex Relation')\n",
    "sns.countplot(data=df, x=\"Sex\", ax=axs[2],hue='Embarked')\n",
    "axs[2].set_title('Sex Embarked Count')\n",
    "sns.countplot(data=df, x=\"Sex\", ax=axs[3],hue='Embarked')\n",
    "axs[3].set_title('Sex Embarked Count')"
   ]
  },
  {
   "cell_type": "markdown",
   "id": "91c38a90",
   "metadata": {},
   "source": [
    "Male is almost 65% of the total passengers and most of the passengers travelled in the fare of 0-50. Most of the embarking is done at S followed by C and Q. "
   ]
  },
  {
   "cell_type": "markdown",
   "id": "e6678408",
   "metadata": {},
   "source": [
    "Imputing"
   ]
  },
  {
   "cell_type": "code",
   "execution_count": 4,
   "id": "1c7b9e67",
   "metadata": {},
   "outputs": [],
   "source": [
    "knn_imputer = KNNImputer(n_neighbors=5)\n",
    "imputer = IterativeImputer()\n",
    "df['Age']=imputer.fit_transform(df[['Age']])\n",
    "df['Age']=df['Age'].apply(math.ceil)\n",
    "mode_value = df['Embarked'].mode()[0]\n",
    "df['Embarked'] = df['Embarked'].fillna(mode_value)"
   ]
  },
  {
   "cell_type": "code",
   "execution_count": 5,
   "id": "ae61d3d4",
   "metadata": {},
   "outputs": [],
   "source": [
    "# Since 687 Null values of Cabin , it will not contribute much to the survival.\n",
    "df = df.drop('Cabin', axis=1)"
   ]
  },
  {
   "cell_type": "code",
   "execution_count": null,
   "id": "4efb1249",
   "metadata": {},
   "outputs": [],
   "source": [
    "Using Label encoding for categorical variables with less category and Dummies for columns with more category"
   ]
  },
  {
   "cell_type": "code",
   "execution_count": 6,
   "id": "d0747b62",
   "metadata": {},
   "outputs": [
    {
     "data": {
      "text/html": [
       "<div>\n",
       "<style scoped>\n",
       "    .dataframe tbody tr th:only-of-type {\n",
       "        vertical-align: middle;\n",
       "    }\n",
       "\n",
       "    .dataframe tbody tr th {\n",
       "        vertical-align: top;\n",
       "    }\n",
       "\n",
       "    .dataframe thead th {\n",
       "        text-align: right;\n",
       "    }\n",
       "</style>\n",
       "<table border=\"1\" class=\"dataframe\">\n",
       "  <thead>\n",
       "    <tr style=\"text-align: right;\">\n",
       "      <th></th>\n",
       "      <th>PassengerId</th>\n",
       "      <th>Survived</th>\n",
       "      <th>Pclass</th>\n",
       "      <th>Sex</th>\n",
       "      <th>SibSp</th>\n",
       "      <th>Parch</th>\n",
       "      <th>Fare</th>\n",
       "      <th>Embarked</th>\n",
       "      <th>Age_1</th>\n",
       "      <th>Age_2</th>\n",
       "      <th>...</th>\n",
       "      <th>Name_Yrois, Miss. Henriette (\"Mrs Harbeck\")</th>\n",
       "      <th>Name_Zabour, Miss. Hileni</th>\n",
       "      <th>Name_Zabour, Miss. Thamine</th>\n",
       "      <th>Name_Zimmerman, Mr. Leo</th>\n",
       "      <th>Name_de Messemaeker, Mrs. Guillaume Joseph (Emma)</th>\n",
       "      <th>Name_de Mulder, Mr. Theodore</th>\n",
       "      <th>Name_de Pelsmaeker, Mr. Alfons</th>\n",
       "      <th>Name_del Carlo, Mr. Sebastiano</th>\n",
       "      <th>Name_van Billiard, Mr. Austin Blyler</th>\n",
       "      <th>Name_van Melkebeke, Mr. Philemon</th>\n",
       "    </tr>\n",
       "  </thead>\n",
       "  <tbody>\n",
       "    <tr>\n",
       "      <th>0</th>\n",
       "      <td>1</td>\n",
       "      <td>0</td>\n",
       "      <td>2</td>\n",
       "      <td>1</td>\n",
       "      <td>1</td>\n",
       "      <td>0</td>\n",
       "      <td>7.2500</td>\n",
       "      <td>2</td>\n",
       "      <td>0</td>\n",
       "      <td>0</td>\n",
       "      <td>...</td>\n",
       "      <td>0</td>\n",
       "      <td>0</td>\n",
       "      <td>0</td>\n",
       "      <td>0</td>\n",
       "      <td>0</td>\n",
       "      <td>0</td>\n",
       "      <td>0</td>\n",
       "      <td>0</td>\n",
       "      <td>0</td>\n",
       "      <td>0</td>\n",
       "    </tr>\n",
       "    <tr>\n",
       "      <th>1</th>\n",
       "      <td>2</td>\n",
       "      <td>1</td>\n",
       "      <td>0</td>\n",
       "      <td>0</td>\n",
       "      <td>1</td>\n",
       "      <td>0</td>\n",
       "      <td>71.2833</td>\n",
       "      <td>0</td>\n",
       "      <td>0</td>\n",
       "      <td>0</td>\n",
       "      <td>...</td>\n",
       "      <td>0</td>\n",
       "      <td>0</td>\n",
       "      <td>0</td>\n",
       "      <td>0</td>\n",
       "      <td>0</td>\n",
       "      <td>0</td>\n",
       "      <td>0</td>\n",
       "      <td>0</td>\n",
       "      <td>0</td>\n",
       "      <td>0</td>\n",
       "    </tr>\n",
       "    <tr>\n",
       "      <th>2</th>\n",
       "      <td>3</td>\n",
       "      <td>1</td>\n",
       "      <td>2</td>\n",
       "      <td>0</td>\n",
       "      <td>0</td>\n",
       "      <td>0</td>\n",
       "      <td>7.9250</td>\n",
       "      <td>2</td>\n",
       "      <td>0</td>\n",
       "      <td>0</td>\n",
       "      <td>...</td>\n",
       "      <td>0</td>\n",
       "      <td>0</td>\n",
       "      <td>0</td>\n",
       "      <td>0</td>\n",
       "      <td>0</td>\n",
       "      <td>0</td>\n",
       "      <td>0</td>\n",
       "      <td>0</td>\n",
       "      <td>0</td>\n",
       "      <td>0</td>\n",
       "    </tr>\n",
       "    <tr>\n",
       "      <th>3</th>\n",
       "      <td>4</td>\n",
       "      <td>1</td>\n",
       "      <td>0</td>\n",
       "      <td>0</td>\n",
       "      <td>1</td>\n",
       "      <td>0</td>\n",
       "      <td>53.1000</td>\n",
       "      <td>2</td>\n",
       "      <td>0</td>\n",
       "      <td>0</td>\n",
       "      <td>...</td>\n",
       "      <td>0</td>\n",
       "      <td>0</td>\n",
       "      <td>0</td>\n",
       "      <td>0</td>\n",
       "      <td>0</td>\n",
       "      <td>0</td>\n",
       "      <td>0</td>\n",
       "      <td>0</td>\n",
       "      <td>0</td>\n",
       "      <td>0</td>\n",
       "    </tr>\n",
       "    <tr>\n",
       "      <th>4</th>\n",
       "      <td>5</td>\n",
       "      <td>0</td>\n",
       "      <td>2</td>\n",
       "      <td>1</td>\n",
       "      <td>0</td>\n",
       "      <td>0</td>\n",
       "      <td>8.0500</td>\n",
       "      <td>2</td>\n",
       "      <td>0</td>\n",
       "      <td>0</td>\n",
       "      <td>...</td>\n",
       "      <td>0</td>\n",
       "      <td>0</td>\n",
       "      <td>0</td>\n",
       "      <td>0</td>\n",
       "      <td>0</td>\n",
       "      <td>0</td>\n",
       "      <td>0</td>\n",
       "      <td>0</td>\n",
       "      <td>0</td>\n",
       "      <td>0</td>\n",
       "    </tr>\n",
       "  </tbody>\n",
       "</table>\n",
       "<p>5 rows × 1650 columns</p>\n",
       "</div>"
      ],
      "text/plain": [
       "   PassengerId  Survived  Pclass  Sex  SibSp  Parch     Fare  Embarked  Age_1  \\\n",
       "0            1         0       2    1      1      0   7.2500         2      0   \n",
       "1            2         1       0    0      1      0  71.2833         0      0   \n",
       "2            3         1       2    0      0      0   7.9250         2      0   \n",
       "3            4         1       0    0      1      0  53.1000         2      0   \n",
       "4            5         0       2    1      0      0   8.0500         2      0   \n",
       "\n",
       "   Age_2  ...  Name_Yrois, Miss. Henriette (\"Mrs Harbeck\")  \\\n",
       "0      0  ...                                            0   \n",
       "1      0  ...                                            0   \n",
       "2      0  ...                                            0   \n",
       "3      0  ...                                            0   \n",
       "4      0  ...                                            0   \n",
       "\n",
       "   Name_Zabour, Miss. Hileni  Name_Zabour, Miss. Thamine  \\\n",
       "0                          0                           0   \n",
       "1                          0                           0   \n",
       "2                          0                           0   \n",
       "3                          0                           0   \n",
       "4                          0                           0   \n",
       "\n",
       "   Name_Zimmerman, Mr. Leo  Name_de Messemaeker, Mrs. Guillaume Joseph (Emma)  \\\n",
       "0                        0                                                  0   \n",
       "1                        0                                                  0   \n",
       "2                        0                                                  0   \n",
       "3                        0                                                  0   \n",
       "4                        0                                                  0   \n",
       "\n",
       "   Name_de Mulder, Mr. Theodore  Name_de Pelsmaeker, Mr. Alfons  \\\n",
       "0                             0                               0   \n",
       "1                             0                               0   \n",
       "2                             0                               0   \n",
       "3                             0                               0   \n",
       "4                             0                               0   \n",
       "\n",
       "   Name_del Carlo, Mr. Sebastiano  Name_van Billiard, Mr. Austin Blyler  \\\n",
       "0                               0                                     0   \n",
       "1                               0                                     0   \n",
       "2                               0                                     0   \n",
       "3                               0                                     0   \n",
       "4                               0                                     0   \n",
       "\n",
       "   Name_van Melkebeke, Mr. Philemon  \n",
       "0                                 0  \n",
       "1                                 0  \n",
       "2                                 0  \n",
       "3                                 0  \n",
       "4                                 0  \n",
       "\n",
       "[5 rows x 1650 columns]"
      ]
     },
     "execution_count": 6,
     "metadata": {},
     "output_type": "execute_result"
    }
   ],
   "source": [
    "df['Sex']=preprocessing.LabelEncoder().fit_transform(df['Sex'])\n",
    "df['Embarked']=preprocessing.LabelEncoder().fit_transform(df['Embarked'])\n",
    "df['Pclass']=preprocessing.LabelEncoder().fit_transform(df['Pclass'])\n",
    "df['SibSp']=preprocessing.LabelEncoder().fit_transform(df['SibSp'])\n",
    "df['Parch']=preprocessing.LabelEncoder().fit_transform(df['Parch'])\n",
    "df=pd.get_dummies(data=df,columns=['Age','Ticket','Name'])\n",
    "df.head()"
   ]
  },
  {
   "cell_type": "code",
   "execution_count": 7,
   "id": "426fb815",
   "metadata": {},
   "outputs": [],
   "source": [
    "# Normalising Fare column\n",
    "scaler = StandardScaler()\n",
    "df['Fare'] = scaler.fit_transform(df[['Fare']])"
   ]
  },
  {
   "cell_type": "code",
   "execution_count": 8,
   "id": "dd4f855f",
   "metadata": {},
   "outputs": [
    {
     "data": {
      "text/html": [
       "<div>\n",
       "<style scoped>\n",
       "    .dataframe tbody tr th:only-of-type {\n",
       "        vertical-align: middle;\n",
       "    }\n",
       "\n",
       "    .dataframe tbody tr th {\n",
       "        vertical-align: top;\n",
       "    }\n",
       "\n",
       "    .dataframe thead th {\n",
       "        text-align: right;\n",
       "    }\n",
       "</style>\n",
       "<table border=\"1\" class=\"dataframe\">\n",
       "  <thead>\n",
       "    <tr style=\"text-align: right;\">\n",
       "      <th></th>\n",
       "      <th>PassengerId</th>\n",
       "      <th>Survived</th>\n",
       "      <th>Pclass</th>\n",
       "      <th>Sex</th>\n",
       "      <th>SibSp</th>\n",
       "      <th>Parch</th>\n",
       "      <th>Fare</th>\n",
       "      <th>Embarked</th>\n",
       "      <th>Age_1</th>\n",
       "      <th>Age_2</th>\n",
       "      <th>...</th>\n",
       "      <th>Name_Yrois, Miss. Henriette (\"Mrs Harbeck\")</th>\n",
       "      <th>Name_Zabour, Miss. Hileni</th>\n",
       "      <th>Name_Zabour, Miss. Thamine</th>\n",
       "      <th>Name_Zimmerman, Mr. Leo</th>\n",
       "      <th>Name_de Messemaeker, Mrs. Guillaume Joseph (Emma)</th>\n",
       "      <th>Name_de Mulder, Mr. Theodore</th>\n",
       "      <th>Name_de Pelsmaeker, Mr. Alfons</th>\n",
       "      <th>Name_del Carlo, Mr. Sebastiano</th>\n",
       "      <th>Name_van Billiard, Mr. Austin Blyler</th>\n",
       "      <th>Name_van Melkebeke, Mr. Philemon</th>\n",
       "    </tr>\n",
       "  </thead>\n",
       "  <tbody>\n",
       "    <tr>\n",
       "      <th>0</th>\n",
       "      <td>1</td>\n",
       "      <td>0</td>\n",
       "      <td>2</td>\n",
       "      <td>1</td>\n",
       "      <td>1</td>\n",
       "      <td>0</td>\n",
       "      <td>-0.502445</td>\n",
       "      <td>2</td>\n",
       "      <td>0</td>\n",
       "      <td>0</td>\n",
       "      <td>...</td>\n",
       "      <td>0</td>\n",
       "      <td>0</td>\n",
       "      <td>0</td>\n",
       "      <td>0</td>\n",
       "      <td>0</td>\n",
       "      <td>0</td>\n",
       "      <td>0</td>\n",
       "      <td>0</td>\n",
       "      <td>0</td>\n",
       "      <td>0</td>\n",
       "    </tr>\n",
       "    <tr>\n",
       "      <th>1</th>\n",
       "      <td>2</td>\n",
       "      <td>1</td>\n",
       "      <td>0</td>\n",
       "      <td>0</td>\n",
       "      <td>1</td>\n",
       "      <td>0</td>\n",
       "      <td>0.786845</td>\n",
       "      <td>0</td>\n",
       "      <td>0</td>\n",
       "      <td>0</td>\n",
       "      <td>...</td>\n",
       "      <td>0</td>\n",
       "      <td>0</td>\n",
       "      <td>0</td>\n",
       "      <td>0</td>\n",
       "      <td>0</td>\n",
       "      <td>0</td>\n",
       "      <td>0</td>\n",
       "      <td>0</td>\n",
       "      <td>0</td>\n",
       "      <td>0</td>\n",
       "    </tr>\n",
       "    <tr>\n",
       "      <th>2</th>\n",
       "      <td>3</td>\n",
       "      <td>1</td>\n",
       "      <td>2</td>\n",
       "      <td>0</td>\n",
       "      <td>0</td>\n",
       "      <td>0</td>\n",
       "      <td>-0.488854</td>\n",
       "      <td>2</td>\n",
       "      <td>0</td>\n",
       "      <td>0</td>\n",
       "      <td>...</td>\n",
       "      <td>0</td>\n",
       "      <td>0</td>\n",
       "      <td>0</td>\n",
       "      <td>0</td>\n",
       "      <td>0</td>\n",
       "      <td>0</td>\n",
       "      <td>0</td>\n",
       "      <td>0</td>\n",
       "      <td>0</td>\n",
       "      <td>0</td>\n",
       "    </tr>\n",
       "    <tr>\n",
       "      <th>3</th>\n",
       "      <td>4</td>\n",
       "      <td>1</td>\n",
       "      <td>0</td>\n",
       "      <td>0</td>\n",
       "      <td>1</td>\n",
       "      <td>0</td>\n",
       "      <td>0.420730</td>\n",
       "      <td>2</td>\n",
       "      <td>0</td>\n",
       "      <td>0</td>\n",
       "      <td>...</td>\n",
       "      <td>0</td>\n",
       "      <td>0</td>\n",
       "      <td>0</td>\n",
       "      <td>0</td>\n",
       "      <td>0</td>\n",
       "      <td>0</td>\n",
       "      <td>0</td>\n",
       "      <td>0</td>\n",
       "      <td>0</td>\n",
       "      <td>0</td>\n",
       "    </tr>\n",
       "    <tr>\n",
       "      <th>4</th>\n",
       "      <td>5</td>\n",
       "      <td>0</td>\n",
       "      <td>2</td>\n",
       "      <td>1</td>\n",
       "      <td>0</td>\n",
       "      <td>0</td>\n",
       "      <td>-0.486337</td>\n",
       "      <td>2</td>\n",
       "      <td>0</td>\n",
       "      <td>0</td>\n",
       "      <td>...</td>\n",
       "      <td>0</td>\n",
       "      <td>0</td>\n",
       "      <td>0</td>\n",
       "      <td>0</td>\n",
       "      <td>0</td>\n",
       "      <td>0</td>\n",
       "      <td>0</td>\n",
       "      <td>0</td>\n",
       "      <td>0</td>\n",
       "      <td>0</td>\n",
       "    </tr>\n",
       "  </tbody>\n",
       "</table>\n",
       "<p>5 rows × 1650 columns</p>\n",
       "</div>"
      ],
      "text/plain": [
       "   PassengerId  Survived  Pclass  Sex  SibSp  Parch      Fare  Embarked  \\\n",
       "0            1         0       2    1      1      0 -0.502445         2   \n",
       "1            2         1       0    0      1      0  0.786845         0   \n",
       "2            3         1       2    0      0      0 -0.488854         2   \n",
       "3            4         1       0    0      1      0  0.420730         2   \n",
       "4            5         0       2    1      0      0 -0.486337         2   \n",
       "\n",
       "   Age_1  Age_2  ...  Name_Yrois, Miss. Henriette (\"Mrs Harbeck\")  \\\n",
       "0      0      0  ...                                            0   \n",
       "1      0      0  ...                                            0   \n",
       "2      0      0  ...                                            0   \n",
       "3      0      0  ...                                            0   \n",
       "4      0      0  ...                                            0   \n",
       "\n",
       "   Name_Zabour, Miss. Hileni  Name_Zabour, Miss. Thamine  \\\n",
       "0                          0                           0   \n",
       "1                          0                           0   \n",
       "2                          0                           0   \n",
       "3                          0                           0   \n",
       "4                          0                           0   \n",
       "\n",
       "   Name_Zimmerman, Mr. Leo  Name_de Messemaeker, Mrs. Guillaume Joseph (Emma)  \\\n",
       "0                        0                                                  0   \n",
       "1                        0                                                  0   \n",
       "2                        0                                                  0   \n",
       "3                        0                                                  0   \n",
       "4                        0                                                  0   \n",
       "\n",
       "   Name_de Mulder, Mr. Theodore  Name_de Pelsmaeker, Mr. Alfons  \\\n",
       "0                             0                               0   \n",
       "1                             0                               0   \n",
       "2                             0                               0   \n",
       "3                             0                               0   \n",
       "4                             0                               0   \n",
       "\n",
       "   Name_del Carlo, Mr. Sebastiano  Name_van Billiard, Mr. Austin Blyler  \\\n",
       "0                               0                                     0   \n",
       "1                               0                                     0   \n",
       "2                               0                                     0   \n",
       "3                               0                                     0   \n",
       "4                               0                                     0   \n",
       "\n",
       "   Name_van Melkebeke, Mr. Philemon  \n",
       "0                                 0  \n",
       "1                                 0  \n",
       "2                                 0  \n",
       "3                                 0  \n",
       "4                                 0  \n",
       "\n",
       "[5 rows x 1650 columns]"
      ]
     },
     "execution_count": 8,
     "metadata": {},
     "output_type": "execute_result"
    }
   ],
   "source": [
    "df.head()"
   ]
  },
  {
   "cell_type": "code",
   "execution_count": 9,
   "id": "367bf168",
   "metadata": {},
   "outputs": [
    {
     "name": "stdout",
     "output_type": "stream",
     "text": [
      "     PassengerId  Pclass  Sex  SibSp  Parch      Fare  Embarked  Age_1  Age_2  \\\n",
      "0              1       2    1      1      0 -0.502445         2      0      0   \n",
      "1              2       0    0      1      0  0.786845         0      0      0   \n",
      "2              3       2    0      0      0 -0.488854         2      0      0   \n",
      "3              4       0    0      1      0  0.420730         2      0      0   \n",
      "4              5       2    1      0      0 -0.486337         2      0      0   \n",
      "..           ...     ...  ...    ...    ...       ...       ...    ...    ...   \n",
      "886          887       1    1      0      0 -0.386671         2      0      0   \n",
      "887          888       0    0      0      0 -0.044381         2      0      0   \n",
      "888          889       2    0      1      2 -0.176263         2      0      0   \n",
      "889          890       0    1      0      0 -0.044381         0      0      0   \n",
      "890          891       2    1      0      0 -0.492378         1      0      0   \n",
      "\n",
      "     Age_3  ...  Name_Yrois, Miss. Henriette (\"Mrs Harbeck\")  \\\n",
      "0        0  ...                                            0   \n",
      "1        0  ...                                            0   \n",
      "2        0  ...                                            0   \n",
      "3        0  ...                                            0   \n",
      "4        0  ...                                            0   \n",
      "..     ...  ...                                          ...   \n",
      "886      0  ...                                            0   \n",
      "887      0  ...                                            0   \n",
      "888      0  ...                                            0   \n",
      "889      0  ...                                            0   \n",
      "890      0  ...                                            0   \n",
      "\n",
      "     Name_Zabour, Miss. Hileni  Name_Zabour, Miss. Thamine  \\\n",
      "0                            0                           0   \n",
      "1                            0                           0   \n",
      "2                            0                           0   \n",
      "3                            0                           0   \n",
      "4                            0                           0   \n",
      "..                         ...                         ...   \n",
      "886                          0                           0   \n",
      "887                          0                           0   \n",
      "888                          0                           0   \n",
      "889                          0                           0   \n",
      "890                          0                           0   \n",
      "\n",
      "     Name_Zimmerman, Mr. Leo  \\\n",
      "0                          0   \n",
      "1                          0   \n",
      "2                          0   \n",
      "3                          0   \n",
      "4                          0   \n",
      "..                       ...   \n",
      "886                        0   \n",
      "887                        0   \n",
      "888                        0   \n",
      "889                        0   \n",
      "890                        0   \n",
      "\n",
      "     Name_de Messemaeker, Mrs. Guillaume Joseph (Emma)  \\\n",
      "0                                                    0   \n",
      "1                                                    0   \n",
      "2                                                    0   \n",
      "3                                                    0   \n",
      "4                                                    0   \n",
      "..                                                 ...   \n",
      "886                                                  0   \n",
      "887                                                  0   \n",
      "888                                                  0   \n",
      "889                                                  0   \n",
      "890                                                  0   \n",
      "\n",
      "     Name_de Mulder, Mr. Theodore  Name_de Pelsmaeker, Mr. Alfons  \\\n",
      "0                               0                               0   \n",
      "1                               0                               0   \n",
      "2                               0                               0   \n",
      "3                               0                               0   \n",
      "4                               0                               0   \n",
      "..                            ...                             ...   \n",
      "886                             0                               0   \n",
      "887                             0                               0   \n",
      "888                             0                               0   \n",
      "889                             0                               0   \n",
      "890                             0                               0   \n",
      "\n",
      "     Name_del Carlo, Mr. Sebastiano  Name_van Billiard, Mr. Austin Blyler  \\\n",
      "0                                 0                                     0   \n",
      "1                                 0                                     0   \n",
      "2                                 0                                     0   \n",
      "3                                 0                                     0   \n",
      "4                                 0                                     0   \n",
      "..                              ...                                   ...   \n",
      "886                               0                                     0   \n",
      "887                               0                                     0   \n",
      "888                               0                                     0   \n",
      "889                               0                                     0   \n",
      "890                               0                                     0   \n",
      "\n",
      "     Name_van Melkebeke, Mr. Philemon  \n",
      "0                                   0  \n",
      "1                                   0  \n",
      "2                                   0  \n",
      "3                                   0  \n",
      "4                                   0  \n",
      "..                                ...  \n",
      "886                                 0  \n",
      "887                                 0  \n",
      "888                                 0  \n",
      "889                                 0  \n",
      "890                                 0  \n",
      "\n",
      "[891 rows x 1649 columns]\n"
     ]
    }
   ],
   "source": [
    "y=df['Survived']\n",
    "X=df.drop(['Survived'],axis=1)\n",
    "print(X)\n",
    "X_train, X_test, y_train, y_test = train_test_split(X, y, test_size=0.33, random_state=42)"
   ]
  },
  {
   "cell_type": "markdown",
   "id": "389f244e",
   "metadata": {},
   "source": [
    "# Since there are 1650 columns in X ,it is prone to overfitting . Let us remove multicollinearity and capture the columns with high variability and influence in the output."
   ]
  },
  {
   "cell_type": "code",
   "execution_count": 10,
   "id": "9c55d10e",
   "metadata": {},
   "outputs": [],
   "source": [
    "from sklearn.decomposition import PCA\n",
    "pca=PCA(n_components=10)\n",
    "X_train=pca.fit_transform(X_train)"
   ]
  },
  {
   "cell_type": "code",
   "execution_count": 11,
   "id": "71f302a8",
   "metadata": {},
   "outputs": [
    {
     "data": {
      "text/plain": [
       "array([6.73180708e+04, 1.59947897e+00, 1.30515067e+00, 5.76851871e-01,\n",
       "       4.53682214e-01, 3.54631493e-01, 1.96974451e-01, 1.65191793e-01,\n",
       "       3.93146152e-02, 3.51496236e-02])"
      ]
     },
     "execution_count": 11,
     "metadata": {},
     "output_type": "execute_result"
    }
   ],
   "source": [
    "pca.explained_variance_"
   ]
  },
  {
   "cell_type": "code",
   "execution_count": 12,
   "id": "57473b77",
   "metadata": {},
   "outputs": [],
   "source": [
    "X_test = pca.transform(X_test)"
   ]
  },
  {
   "cell_type": "markdown",
   "id": "d6f757d3",
   "metadata": {},
   "source": [
    "Train Model"
   ]
  },
  {
   "cell_type": "code",
   "execution_count": 13,
   "id": "dd7d744e",
   "metadata": {},
   "outputs": [
    {
     "data": {
      "text/html": [
       "<style>#sk-container-id-1 {color: black;background-color: white;}#sk-container-id-1 pre{padding: 0;}#sk-container-id-1 div.sk-toggleable {background-color: white;}#sk-container-id-1 label.sk-toggleable__label {cursor: pointer;display: block;width: 100%;margin-bottom: 0;padding: 0.3em;box-sizing: border-box;text-align: center;}#sk-container-id-1 label.sk-toggleable__label-arrow:before {content: \"▸\";float: left;margin-right: 0.25em;color: #696969;}#sk-container-id-1 label.sk-toggleable__label-arrow:hover:before {color: black;}#sk-container-id-1 div.sk-estimator:hover label.sk-toggleable__label-arrow:before {color: black;}#sk-container-id-1 div.sk-toggleable__content {max-height: 0;max-width: 0;overflow: hidden;text-align: left;background-color: #f0f8ff;}#sk-container-id-1 div.sk-toggleable__content pre {margin: 0.2em;color: black;border-radius: 0.25em;background-color: #f0f8ff;}#sk-container-id-1 input.sk-toggleable__control:checked~div.sk-toggleable__content {max-height: 200px;max-width: 100%;overflow: auto;}#sk-container-id-1 input.sk-toggleable__control:checked~label.sk-toggleable__label-arrow:before {content: \"▾\";}#sk-container-id-1 div.sk-estimator input.sk-toggleable__control:checked~label.sk-toggleable__label {background-color: #d4ebff;}#sk-container-id-1 div.sk-label input.sk-toggleable__control:checked~label.sk-toggleable__label {background-color: #d4ebff;}#sk-container-id-1 input.sk-hidden--visually {border: 0;clip: rect(1px 1px 1px 1px);clip: rect(1px, 1px, 1px, 1px);height: 1px;margin: -1px;overflow: hidden;padding: 0;position: absolute;width: 1px;}#sk-container-id-1 div.sk-estimator {font-family: monospace;background-color: #f0f8ff;border: 1px dotted black;border-radius: 0.25em;box-sizing: border-box;margin-bottom: 0.5em;}#sk-container-id-1 div.sk-estimator:hover {background-color: #d4ebff;}#sk-container-id-1 div.sk-parallel-item::after {content: \"\";width: 100%;border-bottom: 1px solid gray;flex-grow: 1;}#sk-container-id-1 div.sk-label:hover label.sk-toggleable__label {background-color: #d4ebff;}#sk-container-id-1 div.sk-serial::before {content: \"\";position: absolute;border-left: 1px solid gray;box-sizing: border-box;top: 0;bottom: 0;left: 50%;z-index: 0;}#sk-container-id-1 div.sk-serial {display: flex;flex-direction: column;align-items: center;background-color: white;padding-right: 0.2em;padding-left: 0.2em;position: relative;}#sk-container-id-1 div.sk-item {position: relative;z-index: 1;}#sk-container-id-1 div.sk-parallel {display: flex;align-items: stretch;justify-content: center;background-color: white;position: relative;}#sk-container-id-1 div.sk-item::before, #sk-container-id-1 div.sk-parallel-item::before {content: \"\";position: absolute;border-left: 1px solid gray;box-sizing: border-box;top: 0;bottom: 0;left: 50%;z-index: -1;}#sk-container-id-1 div.sk-parallel-item {display: flex;flex-direction: column;z-index: 1;position: relative;background-color: white;}#sk-container-id-1 div.sk-parallel-item:first-child::after {align-self: flex-end;width: 50%;}#sk-container-id-1 div.sk-parallel-item:last-child::after {align-self: flex-start;width: 50%;}#sk-container-id-1 div.sk-parallel-item:only-child::after {width: 0;}#sk-container-id-1 div.sk-dashed-wrapped {border: 1px dashed gray;margin: 0 0.4em 0.5em 0.4em;box-sizing: border-box;padding-bottom: 0.4em;background-color: white;}#sk-container-id-1 div.sk-label label {font-family: monospace;font-weight: bold;display: inline-block;line-height: 1.2em;}#sk-container-id-1 div.sk-label-container {text-align: center;}#sk-container-id-1 div.sk-container {/* jupyter's `normalize.less` sets `[hidden] { display: none; }` but bootstrap.min.css set `[hidden] { display: none !important; }` so we also need the `!important` here to be able to override the default hidden behavior on the sphinx rendered scikit-learn.org. See: https://github.com/scikit-learn/scikit-learn/issues/21755 */display: inline-block !important;position: relative;}#sk-container-id-1 div.sk-text-repr-fallback {display: none;}</style><div id=\"sk-container-id-1\" class=\"sk-top-container\"><div class=\"sk-text-repr-fallback\"><pre>SVC()</pre><b>In a Jupyter environment, please rerun this cell to show the HTML representation or trust the notebook. <br />On GitHub, the HTML representation is unable to render, please try loading this page with nbviewer.org.</b></div><div class=\"sk-container\" hidden><div class=\"sk-item\"><div class=\"sk-estimator sk-toggleable\"><input class=\"sk-toggleable__control sk-hidden--visually\" id=\"sk-estimator-id-1\" type=\"checkbox\" checked><label for=\"sk-estimator-id-1\" class=\"sk-toggleable__label sk-toggleable__label-arrow\">SVC</label><div class=\"sk-toggleable__content\"><pre>SVC()</pre></div></div></div></div></div>"
      ],
      "text/plain": [
       "SVC()"
      ]
     },
     "execution_count": 13,
     "metadata": {},
     "output_type": "execute_result"
    }
   ],
   "source": [
    "# Example: Using Support Vector Machine (SVM) classifier\n",
    "clf1 = SVC()\n",
    "clf1.fit(X_train, y_train)"
   ]
  },
  {
   "cell_type": "code",
   "execution_count": 13,
   "id": "9e284a89",
   "metadata": {},
   "outputs": [
    {
     "name": "stdout",
     "output_type": "stream",
     "text": [
      "Accuracy: 0.5932203389830508\n"
     ]
    }
   ],
   "source": [
    "accuracy = clf1.score(X_test, y_test)\n",
    "print(\"Accuracy:\", accuracy)"
   ]
  },
  {
   "cell_type": "code",
   "execution_count": 14,
   "id": "11c97b33",
   "metadata": {},
   "outputs": [
    {
     "name": "stdout",
     "output_type": "stream",
     "text": [
      "Accuracy: 0.5932203389830508\n",
      "Confusion Matrix:\n",
      " [[175   0]\n",
      " [120   0]]\n",
      "Classification Report:\n",
      "               precision    recall  f1-score   support\n",
      "\n",
      "           0       0.59      1.00      0.74       175\n",
      "           1       0.00      0.00      0.00       120\n",
      "\n",
      "    accuracy                           0.59       295\n",
      "   macro avg       0.30      0.50      0.37       295\n",
      "weighted avg       0.35      0.59      0.44       295\n",
      "\n"
     ]
    },
    {
     "name": "stderr",
     "output_type": "stream",
     "text": [
      "C:\\Users\\User\\anaconda3\\lib\\site-packages\\sklearn\\metrics\\_classification.py:1344: UndefinedMetricWarning: Precision and F-score are ill-defined and being set to 0.0 in labels with no predicted samples. Use `zero_division` parameter to control this behavior.\n",
      "  _warn_prf(average, modifier, msg_start, len(result))\n",
      "C:\\Users\\User\\anaconda3\\lib\\site-packages\\sklearn\\metrics\\_classification.py:1344: UndefinedMetricWarning: Precision and F-score are ill-defined and being set to 0.0 in labels with no predicted samples. Use `zero_division` parameter to control this behavior.\n",
      "  _warn_prf(average, modifier, msg_start, len(result))\n",
      "C:\\Users\\User\\anaconda3\\lib\\site-packages\\sklearn\\metrics\\_classification.py:1344: UndefinedMetricWarning: Precision and F-score are ill-defined and being set to 0.0 in labels with no predicted samples. Use `zero_division` parameter to control this behavior.\n",
      "  _warn_prf(average, modifier, msg_start, len(result))\n"
     ]
    }
   ],
   "source": [
    "from sklearn.metrics import accuracy_score, confusion_matrix, classification_report\n",
    "\n",
    "# Assuming you have trained your model and obtained predictions\n",
    "y_pred_svm = clf1.predict(X_test)\n",
    "\n",
    "# Compare y_test and y_pred using accuracy score\n",
    "accuracy = accuracy_score(y_test, y_pred_svm)\n",
    "print(\"Accuracy:\", accuracy)\n",
    "\n",
    "# Print confusion matrix\n",
    "conf_matrix = confusion_matrix(y_test, y_pred_svm)\n",
    "print(\"Confusion Matrix:\\n\", conf_matrix)\n",
    "\n",
    "# Print classification report\n",
    "class_report = classification_report(y_test, y_pred_svm)\n",
    "print(\"Classification Report:\\n\", class_report)"
   ]
  },
  {
   "cell_type": "code",
   "execution_count": 15,
   "id": "9762fa67",
   "metadata": {},
   "outputs": [
    {
     "name": "stdout",
     "output_type": "stream",
     "text": [
      "Accuracy: 0.7932203389830509\n",
      "Confusion Matrix:\n",
      " [[147  28]\n",
      " [ 33  87]]\n",
      "Classification Report:\n",
      "               precision    recall  f1-score   support\n",
      "\n",
      "           0       0.82      0.84      0.83       175\n",
      "           1       0.76      0.72      0.74       120\n",
      "\n",
      "    accuracy                           0.79       295\n",
      "   macro avg       0.79      0.78      0.78       295\n",
      "weighted avg       0.79      0.79      0.79       295\n",
      "\n"
     ]
    },
    {
     "name": "stderr",
     "output_type": "stream",
     "text": [
      "C:\\Users\\User\\anaconda3\\lib\\site-packages\\sklearn\\linear_model\\_logistic.py:458: ConvergenceWarning: lbfgs failed to converge (status=1):\n",
      "STOP: TOTAL NO. of ITERATIONS REACHED LIMIT.\n",
      "\n",
      "Increase the number of iterations (max_iter) or scale the data as shown in:\n",
      "    https://scikit-learn.org/stable/modules/preprocessing.html\n",
      "Please also refer to the documentation for alternative solver options:\n",
      "    https://scikit-learn.org/stable/modules/linear_model.html#logistic-regression\n",
      "  n_iter_i = _check_optimize_result(\n"
     ]
    }
   ],
   "source": [
    "clf2 = LogisticRegression()\n",
    "clf2.fit(X_train, y_train)\n",
    "# Assuming you have trained your model and obtained predictions\n",
    "y_pred_lr = clf2.predict(X_test)\n",
    "\n",
    "# Compare y_test and y_pred using accuracy score\n",
    "accuracy = accuracy_score(y_test, y_pred_lr)\n",
    "print(\"Accuracy:\", accuracy)\n",
    "\n",
    "# Print confusion matrix\n",
    "conf_matrix = confusion_matrix(y_test, y_pred_lr)\n",
    "print(\"Confusion Matrix:\\n\", conf_matrix)\n",
    "\n",
    "# Print classification report\n",
    "class_report = classification_report(y_test, y_pred_lr)\n",
    "print(\"Classification Report:\\n\", class_report)"
   ]
  },
  {
   "cell_type": "code",
   "execution_count": 16,
   "id": "7dad15b7",
   "metadata": {},
   "outputs": [
    {
     "name": "stdout",
     "output_type": "stream",
     "text": [
      "Accuracy: 0.7559322033898305\n",
      "Confusion Matrix:\n",
      " [[141  34]\n",
      " [ 38  82]]\n",
      "Classification Report:\n",
      "               precision    recall  f1-score   support\n",
      "\n",
      "           0       0.79      0.81      0.80       175\n",
      "           1       0.71      0.68      0.69       120\n",
      "\n",
      "    accuracy                           0.76       295\n",
      "   macro avg       0.75      0.74      0.75       295\n",
      "weighted avg       0.75      0.76      0.76       295\n",
      "\n"
     ]
    }
   ],
   "source": [
    "clf3 = DecisionTreeClassifier()\n",
    "clf3.fit(X_train, y_train)\n",
    "# Assuming you have trained your model and obtained predictions\n",
    "y_pred_dtc = clf3.predict(X_test)\n",
    "\n",
    "# Compare y_test and y_pred using accuracy score\n",
    "accuracy = accuracy_score(y_test, y_pred_dtc)\n",
    "print(\"Accuracy:\", accuracy)\n",
    "\n",
    "# Print confusion matrix\n",
    "conf_matrix = confusion_matrix(y_test, y_pred_dtc)\n",
    "print(\"Confusion Matrix:\\n\", conf_matrix)\n",
    "\n",
    "# Print classification report\n",
    "class_report = classification_report(y_test, y_pred_dtc)\n",
    "print(\"Classification Report:\\n\", class_report)"
   ]
  },
  {
   "cell_type": "code",
   "execution_count": 17,
   "id": "ad294adf",
   "metadata": {},
   "outputs": [
    {
     "name": "stdout",
     "output_type": "stream",
     "text": [
      "Accuracy: 0.735593220338983\n",
      "Confusion Matrix:\n",
      " [[138  37]\n",
      " [ 41  79]]\n",
      "Classification Report:\n",
      "               precision    recall  f1-score   support\n",
      "\n",
      "           0       0.77      0.79      0.78       175\n",
      "           1       0.68      0.66      0.67       120\n",
      "\n",
      "    accuracy                           0.74       295\n",
      "   macro avg       0.73      0.72      0.72       295\n",
      "weighted avg       0.73      0.74      0.73       295\n",
      "\n"
     ]
    }
   ],
   "source": [
    "clf4 = GaussianNB()\n",
    "clf4.fit(X_train, y_train)\n",
    "# Assuming you have trained your model and obtained predictions\n",
    "y_pred_nb = clf4.predict(X_test)\n",
    "\n",
    "# Compare y_test and y_pred using accuracy score\n",
    "accuracy = accuracy_score(y_test, y_pred_nb)\n",
    "print(\"Accuracy:\", accuracy)\n",
    "\n",
    "# Print confusion matrix\n",
    "conf_matrix = confusion_matrix(y_test, y_pred_nb)\n",
    "print(\"Confusion Matrix:\\n\", conf_matrix)\n",
    "\n",
    "# Print classification report\n",
    "class_report = classification_report(y_test, y_pred_nb)\n",
    "print(\"Classification Report:\\n\", class_report)"
   ]
  },
  {
   "cell_type": "code",
   "execution_count": 19,
   "id": "f40c6b4f",
   "metadata": {},
   "outputs": [
    {
     "name": "stdout",
     "output_type": "stream",
     "text": [
      "Accuracy: 0.7966101694915254\n",
      "Confusion Matrix:\n",
      " [[157  18]\n",
      " [ 42  78]]\n",
      "Classification Report:\n",
      "               precision    recall  f1-score   support\n",
      "\n",
      "           0       0.79      0.90      0.84       175\n",
      "           1       0.81      0.65      0.72       120\n",
      "\n",
      "    accuracy                           0.80       295\n",
      "   macro avg       0.80      0.77      0.78       295\n",
      "weighted avg       0.80      0.80      0.79       295\n",
      "\n"
     ]
    }
   ],
   "source": [
    "clf5 = RandomForestClassifier()\n",
    "clf5.fit(X_train, y_train)\n",
    "# Assuming you have trained your model and obtained predictions\n",
    "y_pred_rfc = clf5.predict(X_test)\n",
    "\n",
    "# Compare y_test and y_pred using accuracy score\n",
    "accuracy = accuracy_score(y_test, y_pred_rfc)\n",
    "print(\"Accuracy:\", accuracy)\n",
    "\n",
    "# Print confusion matrix\n",
    "conf_matrix = confusion_matrix(y_test, y_pred_rfc)\n",
    "print(\"Confusion Matrix:\\n\", conf_matrix)\n",
    "\n",
    "# Print classification report\n",
    "class_report = classification_report(y_test, y_pred_rfc)\n",
    "print(\"Classification Report:\\n\", class_report)"
   ]
  },
  {
   "cell_type": "markdown",
   "id": "af511e3d",
   "metadata": {},
   "source": [
    "Of all the 5 models Random Forest gets better accuracy . Let us improve the accuracy by fine tuning hyper parameters"
   ]
  },
  {
   "cell_type": "code",
   "execution_count": 22,
   "id": "24b54ddf",
   "metadata": {},
   "outputs": [
    {
     "name": "stdout",
     "output_type": "stream",
     "text": [
      "Best Hyperparameters: {'max_depth': None, 'max_features': 'sqrt', 'min_samples_leaf': 1, 'min_samples_split': 2, 'n_estimators': 100}\n",
      "Accuracy: 0.8\n",
      "Confusion Matrix:\n",
      " [[158  17]\n",
      " [ 42  78]]\n",
      "Classification Report:\n",
      "               precision    recall  f1-score   support\n",
      "\n",
      "           0       0.79      0.90      0.84       175\n",
      "           1       0.82      0.65      0.73       120\n",
      "\n",
      "    accuracy                           0.80       295\n",
      "   macro avg       0.81      0.78      0.78       295\n",
      "weighted avg       0.80      0.80      0.80       295\n",
      "\n"
     ]
    }
   ],
   "source": [
    "# Initialize Logistic Regression model\n",
    "rand_for = RandomForestClassifier()\n",
    "\n",
    "# Define hyperparameters grid\n",
    "param_grid = {\n",
    "    'n_estimators': [100],  # Number of trees in the forest\n",
    "    'max_depth': [None],  # Maximum depth of the trees\n",
    "    'min_samples_split': [2],  # Minimum number of samples required to split a node\n",
    "    'min_samples_leaf': [1,],  # Minimum number of samples required at each leaf node\n",
    "    'max_features': ['sqrt']  # Number of features to consider at each split\n",
    "}\n",
    "# Perform grid search cross-validation\n",
    "grid_search = GridSearchCV(estimator=rand_for, param_grid=param_grid, cv=5)\n",
    "grid_search.fit(X_train, y_train)\n",
    "\n",
    "# Get best hyperparameters\n",
    "best_params = grid_search.best_params_\n",
    "print(\"Best Hyperparameters:\", best_params)\n",
    "\n",
    "# Use the best model for predictions\n",
    "best_model = grid_search.best_estimator_\n",
    "y_pred = best_model.predict(X_test)\n",
    "\n",
    "# Evaluate the model\n",
    "accuracy = accuracy_score(y_test, y_pred)\n",
    "print(\"Accuracy:\", accuracy)\n",
    "\n",
    "# Print confusion matrix\n",
    "conf_matrix = confusion_matrix(y_test, y_pred)\n",
    "print(\"Confusion Matrix:\\n\", conf_matrix)\n",
    "\n",
    "# Print classification report\n",
    "class_report = classification_report(y_test, y_pred)\n",
    "print(\"Classification Report:\\n\", class_report)"
   ]
  },
  {
   "cell_type": "markdown",
   "id": "457f1076",
   "metadata": {},
   "source": [
    "This model has highest accuracy of 80% and AUC of 0.84"
   ]
  },
  {
   "cell_type": "code",
   "execution_count": 25,
   "id": "86d237cf",
   "metadata": {},
   "outputs": [
    {
     "data": {
      "image/png": "[encoded data removed]",
      "text/plain": [
       "<Figure size 640x480 with 1 Axes>"
      ]
     },
     "metadata": {},
     "output_type": "display_data"
    }
   ],
   "source": [
    "# Get predicted probabilities for the positive class\n",
    "y_probs = grid_search.predict_proba(X_test)[:, 1]\n",
    "\n",
    "# Compute ROC curve\n",
    "fpr, tpr, thresholds = roc_curve(y_test, y_probs)\n",
    "\n",
    "# Compute Area Under the Curve (AUC)\n",
    "roc_auc = auc(fpr, tpr)\n",
    "\n",
    "# Plot ROC curve\n",
    "plt.figure()\n",
    "plt.plot(fpr, tpr, color='darkorange', lw=2, label='ROC curve (area = %0.2f)' % roc_auc)\n",
    "plt.plot([0, 1], [0, 1], color='navy', lw=2, linestyle='--')\n",
    "plt.xlabel('False Positive Rate')\n",
    "plt.ylabel('True Positive Rate')\n",
    "plt.title('Receiver Operating Characteristic (ROC) Curve')\n",
    "plt.legend(loc='lower right')\n",
    "plt.show()"
   ]
  }
 ],
 "metadata": {
  "kernelspec": {
   "display_name": "Python 3 (ipykernel)",
   "language": "python",
   "name": "python3"
  },
  "language_info": {
   "codemirror_mode": {
    "name": "ipython",
    "version": 3
   },
   "file_extension": ".py",
   "mimetype": "text/x-python",
   "name": "python",
   "nbconvert_exporter": "python",
   "pygments_lexer": "ipython3",
   "version": "3.10.9"
  }
 },
 "nbformat": 4,
 "nbformat_minor": 5
}
